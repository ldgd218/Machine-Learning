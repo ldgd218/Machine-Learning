{
 "cells": [
  {
   "cell_type": "code",
   "execution_count": 15,
   "metadata": {
    "collapsed": true
   },
   "outputs": [],
   "source": [
    "import numpy as np\n",
    "from matplotlib import pyplot as plt\n",
    "%matplotlib inline\n",
    "import pandas as pd"
   ]
  },
  {
   "cell_type": "code",
   "execution_count": 17,
   "metadata": {
    "collapsed": true
   },
   "outputs": [],
   "source": [
    "my_data=[['slashdot','USA','yes',18,'None'],\n",
    "        ['google','France','yes',23,'Premium'],\n",
    "        ['digg','USA','yes',24,'Basic'],\n",
    "        ['kiwitobes','France','yes',23,'Basic'],\n",
    "        ['google','UK','no',21,'Premium'],\n",
    "        ['(direct)','New Zealand','no',12,'None'],\n",
    "        ['(direct)','UK','no',21,'Basic'],\n",
    "        ['google','USA','no',24,'Premium'],\n",
    "        ['slashdot','France','yes',19,'None'],\n",
    "        ['digg','USA','no',18,'None'],\n",
    "        ['google','UK','no',18,'None'],\n",
    "        ['kiwitobes','UK','no',19,'None'],\n",
    "        ['digg','New Zealand','yes',12,'Basic'],\n",
    "        ['slashdot','UK','no',21,'None'],\n",
    "        ['google','UK','yes',18,'Basic'],\n",
    "        ['kiwitobes','France','yes',19,'Basic']]"
   ]
  },
  {
   "cell_type": "code",
   "execution_count": 19,
   "metadata": {
    "collapsed": true
   },
   "outputs": [],
   "source": [
    "# Divides a set on a specific column. Can handle numeric or nominal values\n",
    "def divideset(rows,column,value):\n",
    "    # Make a function that tells us if a row is in the first group (true) or the second group (false)\n",
    "    split_function=None\n",
    "    if isinstance(value,int) or isinstance(value,float):\n",
    "        split_function=lambda row:row[column]>=value\n",
    "    else:\n",
    "        split_function=lambda row:row[column]==value\n",
    "   \n",
    "    # Divide the rows into two sets and return them\n",
    "    set1=[row for row in rows if split_function(row)]\n",
    "    set2=[row for row in rows if not split_function(row)]\n",
    "    return (set1,set2)\n"
   ]
  },
  {
   "cell_type": "code",
   "execution_count": 20,
   "metadata": {
    "collapsed": false
   },
   "outputs": [
    {
     "data": {
      "text/plain": [
       "([['slashdot', 'USA', 'yes', 18, 'None'],\n",
       "  ['google', 'France', 'yes', 23, 'Premium'],\n",
       "  ['digg', 'USA', 'yes', 24, 'Basic'],\n",
       "  ['kiwitobes', 'France', 'yes', 23, 'Basic'],\n",
       "  ['slashdot', 'France', 'yes', 19, 'None'],\n",
       "  ['digg', 'New Zealand', 'yes', 12, 'Basic'],\n",
       "  ['google', 'UK', 'yes', 18, 'Basic'],\n",
       "  ['kiwitobes', 'France', 'yes', 19, 'Basic']],\n",
       " [['google', 'UK', 'no', 21, 'Premium'],\n",
       "  ['(direct)', 'New Zealand', 'no', 12, 'None'],\n",
       "  ['(direct)', 'UK', 'no', 21, 'Basic'],\n",
       "  ['google', 'USA', 'no', 24, 'Premium'],\n",
       "  ['digg', 'USA', 'no', 18, 'None'],\n",
       "  ['google', 'UK', 'no', 18, 'None'],\n",
       "  ['kiwitobes', 'UK', 'no', 19, 'None'],\n",
       "  ['slashdot', 'UK', 'no', 21, 'None']])"
      ]
     },
     "execution_count": 20,
     "metadata": {},
     "output_type": "execute_result"
    }
   ],
   "source": [
    "divideset(my_data,2,'yes')"
   ]
  },
  {
   "cell_type": "code",
   "execution_count": 21,
   "metadata": {
    "collapsed": false
   },
   "outputs": [
    {
     "name": "stdout",
     "output_type": "stream",
     "text": [
      "{'None': 7, 'Premium': 3, 'Basic': 6}\n"
     ]
    }
   ],
   "source": [
    "def uniquecounts(rows):\n",
    "    results={}\n",
    "    for row in rows:\n",
    "        # The result is the last column\n",
    "        r=row[len(row)-1]\n",
    "        if r not in results: results[r]=0\n",
    "        results[r]+=1\n",
    "    return results\n",
    "\n",
    "print(uniquecounts(my_data))"
   ]
  },
  {
   "cell_type": "code",
   "execution_count": 22,
   "metadata": {
    "collapsed": false
   },
   "outputs": [
    {
     "name": "stdout",
     "output_type": "stream",
     "text": [
      "1.44881563573 0.918295834054\n",
      "1.50524081494\n"
     ]
    }
   ],
   "source": [
    "def entropy(rows):\n",
    "    from math import log\n",
    "    log2=lambda x:log(x)/log(2)  \n",
    "    results=uniquecounts(rows)\n",
    "    # Now calculate the entropy\n",
    "    ent=0.0\n",
    "    for r in results.keys():\n",
    "        p=float(results[r])/len(rows)\n",
    "        ent=ent-p*log2(p)\n",
    "    return ent\n",
    "\n",
    "\n",
    "set1,set2=divideset(my_data,3,20)\n",
    "print entropy(set1), entropy(set2)\n",
    "print entropy(my_data)"
   ]
  },
  {
   "cell_type": "code",
   "execution_count": 23,
   "metadata": {
    "collapsed": true
   },
   "outputs": [],
   "source": [
    "class decisionnode:\n",
    "    def __init__(self,col=-1,value=None,results=None,tb=None,fb=None):\n",
    "        self.col=col\n",
    "        self.value=value\n",
    "        self.results=results\n",
    "        self.tb=tb # Decision node for true\n",
    "        self.fb=fb # Decision node for false"
   ]
  },
  {
   "cell_type": "code",
   "execution_count": 24,
   "metadata": {
    "collapsed": false
   },
   "outputs": [],
   "source": [
    "def buildtree(rows,scoref=entropy): #rows is the set, either whole dataset or part of it in the recursive call, \n",
    "                                    #scoref is the method to measure heterogeneity. By default it's entropy.\n",
    "    if len(rows)==0: return decisionnode() #len(rows) is the number of units in a set\n",
    "    current_score=scoref(rows)\n",
    "\n",
    "    # Set up some variables to track the best criteria\n",
    "    best_gain=0.0\n",
    "    best_criteria=None\n",
    "    best_sets=None\n",
    "  \n",
    "    column_count=len(rows[0])-1   #count the # of attributes/columns. \n",
    "                                #It's -1 because the last one is the target attribute and it does not count.\n",
    "    for col in range(0,column_count):\n",
    "    # Generate the list of all possible different values in the considered column\n",
    "        global column_values        #Added for debugging\n",
    "        column_values={}            \n",
    "        for row in rows:\n",
    "            column_values[row[col]]=1   \n",
    "            # Now try dividing the rows up for each value in this column\n",
    "        for value in column_values.keys(): #the 'values' here are the keys of the dictionnary\n",
    "            (set1,set2)=divideset(rows,col,value) #define set1 and set2 as the 2 children set of a division\n",
    "      \n",
    "            # Information gain\n",
    "            p=float(len(set1))/len(rows) #p is the size of a child set relative to its parent\n",
    "            gain=current_score-p*scoref(set1)-(1-p)*scoref(set2) #cf. formula information gain\n",
    "            if gain>best_gain and len(set1)>0 and len(set2)>0: #set must not be empty\n",
    "                best_gain=gain\n",
    "                best_criteria=(col,value)\n",
    "                best_sets=(set1,set2)\n",
    "        \n",
    "    # Create the sub branches   \n",
    "    if best_gain>0:\n",
    "        trueBranch=buildtree(best_sets[0])\n",
    "        falseBranch=buildtree(best_sets[1])\n",
    "        return decisionnode(col=best_criteria[0],value=best_criteria[1],\n",
    "                            tb=trueBranch,fb=falseBranch)\n",
    "    else:\n",
    "        return decisionnode(results=uniquecounts(rows))"
   ]
  },
  {
   "cell_type": "code",
   "execution_count": 25,
   "metadata": {
    "collapsed": false
   },
   "outputs": [],
   "source": [
    "tree=buildtree(my_data)"
   ]
  },
  {
   "cell_type": "code",
   "execution_count": 28,
   "metadata": {
    "collapsed": false
   },
   "outputs": [
    {
     "name": "stdout",
     "output_type": "stream",
     "text": [
      "0\n",
      "google\n",
      "None\n",
      "----------\n",
      "3\n",
      "21\n",
      "None\n",
      "----------\n",
      "-1\n",
      "None\n",
      "{'Premium': 3}\n",
      "----------\n",
      "2\n",
      "yes\n",
      "None\n",
      "----------\n",
      "-1\n",
      "None\n",
      "{'Basic': 1}\n",
      "----------\n",
      "-1\n",
      "None\n",
      "{'None': 1}\n"
     ]
    }
   ],
   "source": [
    "print(tree.col)\n",
    "print(tree.value)\n",
    "print(tree.results)\n",
    "print(\"----------\")\n",
    "print(tree.tb.col)\n",
    "print(tree.tb.value)\n",
    "print(tree.tb.results)\n",
    "print(\"----------\")\n",
    "print(tree.tb.tb.col)\n",
    "print(tree.tb.tb.value)\n",
    "print(tree.tb.tb.results)\n",
    "print(\"----------\")\n",
    "print(tree.tb.fb.col)\n",
    "print(tree.tb.fb.value)\n",
    "print(tree.tb.fb.results)\n",
    "print(\"----------\")\n",
    "print(tree.tb.fb.tb.col)\n",
    "print(tree.tb.fb.tb.value)\n",
    "print(tree.tb.fb.tb.results)\n",
    "print(\"----------\")\n",
    "print(tree.tb.fb.fb.col)\n",
    "print(tree.tb.fb.fb.value)\n",
    "print(tree.tb.fb.fb.results)"
   ]
  },
  {
   "cell_type": "code",
   "execution_count": 30,
   "metadata": {
    "collapsed": false
   },
   "outputs": [
    {
     "name": "stdout",
     "output_type": "stream",
     "text": [
      "0\n",
      "slashdot\n",
      "None\n",
      "----------\n",
      "-1\n",
      "None\n",
      "{'None': 3}\n",
      "----------\n",
      "2\n",
      "yes\n",
      "None\n",
      "----------\n",
      "-1\n",
      "None\n",
      "{'Basic': 4}\n",
      "----------\n",
      "3\n",
      "21\n",
      "None\n",
      "----------\n",
      "-1\n",
      "None\n",
      "{'Basic': 1}\n",
      "----------\n",
      "-1\n",
      "None\n",
      "{'None': 3}\n"
     ]
    }
   ],
   "source": [
    "print(tree.fb.col)\n",
    "print(tree.fb.value)\n",
    "print(tree.fb.results)\n",
    "print(\"----------\")\n",
    "print(tree.fb.tb.col)\n",
    "print(tree.fb.tb.value)\n",
    "print(tree.fb.tb.results)\n",
    "print(\"----------\")\n",
    "print(tree.fb.fb.col)\n",
    "print(tree.fb.fb.value)\n",
    "print(tree.fb.fb.results)\n",
    "print(\"----------\")\n",
    "print(tree.fb.fb.tb.col)\n",
    "print(tree.fb.fb.tb.value)\n",
    "print(tree.fb.fb.tb.results)\n",
    "print(\"----------\")\n",
    "print(tree.fb.fb.fb.col)\n",
    "print(tree.fb.fb.fb.value)\n",
    "print(tree.fb.fb.fb.results)\n",
    "print(\"----------\")\n",
    "print(tree.fb.fb.fb.tb.col)\n",
    "print(tree.fb.fb.fb.tb.value)\n",
    "print(tree.fb.fb.fb.tb.results)\n",
    "print(\"----------\")\n",
    "print(tree.fb.fb.fb.fb.col)\n",
    "print(tree.fb.fb.fb.fb.value)\n",
    "print(tree.fb.fb.fb.fb.results)"
   ]
  },
  {
   "cell_type": "code",
   "execution_count": 26,
   "metadata": {
    "collapsed": true
   },
   "outputs": [],
   "source": [
    "def classify(observation,tree):\n",
    "    if tree.results!=None:\n",
    "        return tree.results\n",
    "    else:\n",
    "        v=observation[tree.col]\n",
    "        branch=None\n",
    "        if isinstance(v,int) or isinstance(v,float):\n",
    "            if v>=tree.value: branch=tree.tb\n",
    "            else: branch=tree.fb\n",
    "        else:\n",
    "            if v==tree.value: branch=tree.tb\n",
    "            else: branch=tree.fb\n",
    "        return classify(observation,branch)"
   ]
  },
  {
   "cell_type": "code",
   "execution_count": 27,
   "metadata": {
    "collapsed": false
   },
   "outputs": [
    {
     "data": {
      "text/plain": [
       "{'Basic': 4}"
      ]
     },
     "execution_count": 27,
     "metadata": {},
     "output_type": "execute_result"
    }
   ],
   "source": [
    "classify(['(direct)','USA','yes',5], tree)"
   ]
  },
  {
   "cell_type": "code",
   "execution_count": 31,
   "metadata": {
    "collapsed": true
   },
   "outputs": [],
   "source": [
    "import sklearn\n",
    "from sklearn.tree import DecisionTreeClassifier\n",
    "from sklearn.ensemble import RandomForestClassifier\n",
    "import pandas\n"
   ]
  },
  {
   "cell_type": "code",
   "execution_count": null,
   "metadata": {
    "collapsed": true
   },
   "outputs": [],
   "source": [
    "dt = DecisionTreeClassifier()\n",
    "\n",
    "dt.fit()"
   ]
  },
  {
   "cell_type": "code",
   "execution_count": 32,
   "metadata": {
    "collapsed": true
   },
   "outputs": [],
   "source": [
    "DecisionTreeClassifier?"
   ]
  },
  {
   "cell_type": "code",
   "execution_count": null,
   "metadata": {
    "collapsed": true
   },
   "outputs": [],
   "source": []
  },
  {
   "cell_type": "code",
   "execution_count": null,
   "metadata": {
    "collapsed": true
   },
   "outputs": [],
   "source": [
    "rf = RandomForestClassifier(n_estimators= ) # n_estimators is the no. of decision trees"
   ]
  }
 ],
 "metadata": {
  "anaconda-cloud": {},
  "kernelspec": {
   "display_name": "Python [default]",
   "language": "python",
   "name": "python2"
  },
  "language_info": {
   "codemirror_mode": {
    "name": "ipython",
    "version": 2
   },
   "file_extension": ".py",
   "mimetype": "text/x-python",
   "name": "python",
   "nbconvert_exporter": "python",
   "pygments_lexer": "ipython2",
   "version": "2.7.12"
  }
 },
 "nbformat": 4,
 "nbformat_minor": 0
}

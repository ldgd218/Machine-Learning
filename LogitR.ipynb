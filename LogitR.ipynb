{
 "cells": [
  {
   "cell_type": "code",
   "execution_count": 1,
   "metadata": {
    "collapsed": true
   },
   "outputs": [],
   "source": [
    "import numpy as np\n",
    "import pandas as pd\n",
    "from matplotlib import pyplot as plt\n",
    "%matplotlib inline"
   ]
  },
  {
   "cell_type": "code",
   "execution_count": 3,
   "metadata": {
    "collapsed": false
   },
   "outputs": [
    {
     "name": "stdout",
     "output_type": "stream",
     "text": [
      "(100, 3)\n"
     ]
    }
   ],
   "source": [
    "a = pd.read_csv('./toy.csv')\n",
    "d = a.values\n",
    "print d.shape"
   ]
  },
  {
   "cell_type": "code",
   "execution_count": 9,
   "metadata": {
    "collapsed": false
   },
   "outputs": [
    {
     "data": {
      "image/png": "[encoded data removed]",
      "text/plain": [
       "<matplotlib.figure.Figure at 0x7efd4aeb1310>"
      ]
     },
     "metadata": {},
     "output_type": "display_data"
    }
   ],
   "source": [
    "for ix in range(100):\n",
    "    if d[ix, 2] == 1:\n",
    "        plt.scatter(d[ix, 0], d[ix, 1], color='red')\n",
    "    else:\n",
    "        plt.scatter(d[ix, 0], d[ix, 1], color='green')"
   ]
  },
  {
   "cell_type": "code",
   "execution_count": 11,
   "metadata": {
    "collapsed": false
   },
   "outputs": [],
   "source": [
    "class LogisticRegression:\n",
    "\n",
    "    def __init__(self,X,y,tolerance=1e-5):\n",
    "        self.tolerance = tolerance\n",
    "        self.labels = y.reshape(y.size,1)\n",
    "        self.w = np.zeros((X.shape[1]+1,1))\n",
    "        self.X = X\n",
    "        self.mean_x = X.mean(axis=0)\n",
    "        self.std_x = X.std(axis=0)\n",
    "        self.features = np.ones((X.shape[0],X.shape[1]+1))\n",
    "        self.features[:,1:] = (X-self.mean_x)/self.std_x\n",
    "        self.shuffled_features = self.features\n",
    "        self.shuffled_labels = self.labels\n",
    "        self.likelihood_history = []\n",
    "\n",
    "\n",
    "\n",
    "    def log_likelihood(self):\n",
    "        p = self.probability()\n",
    "        loglikelihood = self.labels*np.log(p+1e-24) + (1-self.labels)*np.log(1-p+1e-24)\n",
    "        return -1*loglikelihood.sum()\n",
    "\n",
    "    def probability(self):\n",
    "        return 1/(1+np.exp(-self.features.dot(self.w)))\n",
    "\n",
    "    def log_likelihood_gradient(self): \n",
    "        error = self.labels-self.probability()\n",
    "        product = error*self.features\n",
    "        return product.sum(axis=0).reshape(self.w.shape)\n",
    "\n",
    "    def gradient_decent(self,alpha=1e-7,max_iterations=1e4):\n",
    "        \n",
    "        previous_likelihood = self.log_likelihood()\n",
    "        difference = self.tolerance+1\n",
    "        iteration = 0\n",
    "        self.likelihood_history = [previous_likelihood]\n",
    "        while (difference > self.tolerance) and (iteration < max_iterations):\n",
    "            self.w = self.w + alpha*self.log_likelihood_gradient()\n",
    "            temp = self.log_likelihood()\n",
    "            difference = np.abs(temp-previous_likelihood)\n",
    "            previous_likelihood = temp\n",
    "            self.likelihood_history.append(previous_likelihood)\n",
    "            iteration += 1\n",
    "            \n",
    "            \n",
    "            \n",
    "    def stocastic_gradient_decent(self,alpha=0.1,max_iterations=1e2):\n",
    "        difference = self.tolerance+1.\n",
    "        previous_likelihood = self.log_likelihood()\n",
    "        rows = range(len(self.features))\n",
    "        np.random.shuffle(rows)\n",
    "        self.shuffled_features = self.shuffled_features[rows,:]\n",
    "        self.shuffled_labels = self.shuffled_labels[rows]\n",
    "        iteration = 0\n",
    "        self.likelihood_history = [previous_likelihood]\n",
    "        \n",
    "        while (difference > self.tolerance) & (iteration < max_iterations):\n",
    "            for i in xrange(len(self.features)):\n",
    "                self.w = self.w + alpha*self.row_log_likelihood_gradient(i)\n",
    "            temp = self.log_likelihood()\n",
    "            difference = np.abs(temp - previous_likelihood)\n",
    "            \n",
    "            #print previous_likelihood, temp, difference\n",
    "            \n",
    "            previous_likelihood = temp    \n",
    "\n",
    "            np.random.shuffle(rows)\n",
    "            self.shuffled_features = self.shuffled_features[rows,:]\n",
    "            self.shuffled_labels = self.shuffled_labels[rows]\n",
    "            iteration += 1\n",
    "            self.likelihood_history.append(previous_likelihood)\n",
    "\n",
    "    def predict_probabilty(self,X):\n",
    "        features = np.ones((X.shape[0],X.shape[1]+1))\n",
    "        features[:,1:] = (X-self.mean_x)/self.std_x\n",
    "        return 1/(1+np.exp(-features.dot(self.w)))\n",
    "\n",
    "    def get_coefficients(self):\n",
    "        new_coef = self.w.T[0]/np.hstack((1,self.std_x))\n",
    "        new_coef[0] = self.w.T[0][0]-(self.mean_x*self.w.T[0][1:]/self.std_x).sum()\n",
    "        return new_coef"
   ]
  },
  {
   "cell_type": "code",
   "execution_count": null,
   "metadata": {
    "collapsed": true
   },
   "outputs": [],
   "source": []
  }
 ],
 "metadata": {
  "anaconda-cloud": {},
  "kernelspec": {
   "display_name": "Python [default]",
   "language": "python",
   "name": "python2"
  },
  "language_info": {
   "codemirror_mode": {
    "name": "ipython",
    "version": 2
   },
   "file_extension": ".py",
   "mimetype": "text/x-python",
   "name": "python",
   "nbconvert_exporter": "python",
   "pygments_lexer": "ipython2",
   "version": "2.7.12"
  }
 },
 "nbformat": 4,
 "nbformat_minor": 0
}

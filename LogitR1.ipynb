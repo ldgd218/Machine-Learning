{
 "cells": [
  {
   "cell_type": "code",
   "execution_count": 1,
   "metadata": {
    "collapsed": true
   },
   "outputs": [],
   "source": [
    "import numpy as np\n",
    "import pandas as pd\n",
    "from matplotlib import pyplot as plt\n",
    "%matplotlib inline"
   ]
  },
  {
   "cell_type": "code",
   "execution_count": 27,
   "metadata": {
    "collapsed": false
   },
   "outputs": [
    {
     "data": {
      "text/html": [
       "<div style=\"max-height:1000px;max-width:1500px;overflow:auto;\">\n",
       "<table border=\"1\" class=\"dataframe\">\n",
       "  <thead>\n",
       "    <tr style=\"text-align: right;\">\n",
       "      <th></th>\n",
       "      <th>var1</th>\n",
       "      <th>var2</th>\n",
       "      <th>label</th>\n",
       "    </tr>\n",
       "  </thead>\n",
       "  <tbody>\n",
       "    <tr>\n",
       "      <th>count</th>\n",
       "      <td> 100.000000</td>\n",
       "      <td> 100.000000</td>\n",
       "      <td> 100.000000</td>\n",
       "    </tr>\n",
       "    <tr>\n",
       "      <th>mean</th>\n",
       "      <td>   0.788559</td>\n",
       "      <td>   4.413645</td>\n",
       "      <td>   0.500000</td>\n",
       "    </tr>\n",
       "    <tr>\n",
       "      <th>std</th>\n",
       "      <td>   5.614973</td>\n",
       "      <td>   2.288227</td>\n",
       "      <td>   0.502519</td>\n",
       "    </tr>\n",
       "    <tr>\n",
       "      <th>min</th>\n",
       "      <td>  -8.719130</td>\n",
       "      <td>   2.026715</td>\n",
       "      <td>   0.000000</td>\n",
       "    </tr>\n",
       "    <tr>\n",
       "      <th>25%</th>\n",
       "      <td>  -3.944210</td>\n",
       "      <td>   2.573399</td>\n",
       "      <td>   0.000000</td>\n",
       "    </tr>\n",
       "    <tr>\n",
       "      <th>50%</th>\n",
       "      <td>   1.428670</td>\n",
       "      <td>   2.972816</td>\n",
       "      <td>   0.500000</td>\n",
       "    </tr>\n",
       "    <tr>\n",
       "      <th>75%</th>\n",
       "      <td>   5.917302</td>\n",
       "      <td>   6.148908</td>\n",
       "      <td>   1.000000</td>\n",
       "    </tr>\n",
       "    <tr>\n",
       "      <th>max</th>\n",
       "      <td>   9.884114</td>\n",
       "      <td>  10.877416</td>\n",
       "      <td>   1.000000</td>\n",
       "    </tr>\n",
       "  </tbody>\n",
       "</table>\n",
       "</div>"
      ],
      "text/plain": [
       "             var1        var2       label\n",
       "count  100.000000  100.000000  100.000000\n",
       "mean     0.788559    4.413645    0.500000\n",
       "std      5.614973    2.288227    0.502519\n",
       "min     -8.719130    2.026715    0.000000\n",
       "25%     -3.944210    2.573399    0.000000\n",
       "50%      1.428670    2.972816    0.500000\n",
       "75%      5.917302    6.148908    1.000000\n",
       "max      9.884114   10.877416    1.000000"
      ]
     },
     "execution_count": 27,
     "metadata": {},
     "output_type": "execute_result"
    }
   ],
   "source": [
    "a = pd.read_csv('./toy.csv')\n",
    "d = a.values\n",
    "a.describe()\n",
    "# print d.shape\n"
   ]
  },
  {
   "cell_type": "code",
   "execution_count": 28,
   "metadata": {
    "collapsed": false
   },
   "outputs": [
    {
     "name": "stdout",
     "output_type": "stream",
     "text": [
      "[[  6.02494983  10.87741633   1.        ]\n",
      " [ -1.41197734   6.01971808   1.        ]\n",
      " [  6.49701735   7.50608586   1.        ]\n",
      " [  1.92901092   2.5803534    0.        ]\n",
      " [ -5.26320254   8.5527217    1.        ]]\n"
     ]
    }
   ],
   "source": [
    "x_val = np.linspace(-10, 10)\n",
    "print d[:5]"
   ]
  },
  {
   "cell_type": "code",
   "execution_count": 15,
   "metadata": {
    "collapsed": true
   },
   "outputs": [],
   "source": [
    "def sigmoid(x):\n",
    "    return 1/(1.0 + np.exp(-1.0 * x))\n",
    "\n",
    "def tanh(x):\n",
    "    return np.tanh(x)\n",
    "\n",
    "def scaled_tanh(x):\n",
    "    return (tanh(x) + 1)/2.0"
   ]
  },
  {
   "cell_type": "code",
   "execution_count": 20,
   "metadata": {
    "collapsed": false
   },
   "outputs": [
    {
     "data": {
      "image/png": "[encoded data removed]",
      "text/plain": [
       "<matplotlib.figure.Figure at 0x7efd4ab3ce90>"
      ]
     },
     "metadata": {},
     "output_type": "display_data"
    }
   ],
   "source": [
    "a = sigmoid(x_val)\n",
    "b = scaled_tanh(x_val)\n",
    "\n",
    "plt.figure(0)\n",
    "plt.plot(a, 'r')\n",
    "plt.plot(b)\n",
    "plt.show()"
   ]
  },
  {
   "cell_type": "code",
   "execution_count": 21,
   "metadata": {
    "collapsed": false
   },
   "outputs": [
    {
     "data": {
      "image/png": "[encoded data removed]",
      "text/plain": [
       "<matplotlib.figure.Figure at 0x7efd4ab89410>"
      ]
     },
     "metadata": {},
     "output_type": "display_data"
    }
   ],
   "source": [
    "for ix in range(100):\n",
    "    if d[ix, 2] == 1:\n",
    "        plt.scatter(d[ix, 0], d[ix, 1], color='red')\n",
    "    else:\n",
    "        plt.scatter(d[ix, 0], d[ix, 1], color='green')"
   ]
  },
  {
   "cell_type": "code",
   "execution_count": 26,
   "metadata": {
    "collapsed": false
   },
   "outputs": [
    {
     "name": "stdout",
     "output_type": "stream",
     "text": [
      "(100, 2) (100,)\n"
     ]
    }
   ],
   "source": [
    "X = d[:, :2]\n",
    "y = d[:, 2]\n",
    "print X.shape, y.shape"
   ]
  },
  {
   "cell_type": "code",
   "execution_count": null,
   "metadata": {
    "collapsed": true
   },
   "outputs": [],
   "source": []
  },
  {
   "cell_type": "code",
   "execution_count": 112,
   "metadata": {
    "collapsed": false
   },
   "outputs": [],
   "source": [
    "class LogisticRegression:\n",
    "\n",
    "    def __init__(self,X,y, alpha=1e-2, max_epochs=1e3, tolerance=1e-5, decay_factor=10.0, use_adaptive=False):\n",
    "        self.tolerance = tolerance\n",
    "        self.labels = y.reshape(y.size,1)\n",
    "        self.w = np.zeros((X.shape[1]+1,1))\n",
    "        self.X = X\n",
    "        self.mean_x = X.mean(axis=0)\n",
    "        self.std_x = X.std(axis=0)\n",
    "        self.features = np.ones((X.shape[0],X.shape[1]+1))\n",
    "        self.features[:,1:] = (X-self.mean_x)/self.std_x\n",
    "        self.shuffled_features = self.features\n",
    "        self.shuffled_labels = self.labels\n",
    "        self.likelihood_history = []\n",
    "        self.training_alpha = alpha\n",
    "        self.max_epochs = max_epochs\n",
    "        self.decay_factor = decay_factor\n",
    "        self.use_adaptive = use_adaptive\n",
    "\n",
    "\n",
    "    def log_likelihood(self):\n",
    "        p = self.probability()\n",
    "        loglikelihood = self.labels*np.log(p+1e-24) + (1-self.labels)*np.log(1-p+1e-24)\n",
    "        return -1*loglikelihood.sum()\n",
    "\n",
    "    def probability(self):\n",
    "        return 1/(1+np.exp(-self.features.dot(self.w)))\n",
    "\n",
    "    def log_likelihood_gradient(self): \n",
    "        error = self.labels-self.probability()\n",
    "        product = error*self.features\n",
    "        return product.sum(axis=0).reshape(self.w.shape)\n",
    "\n",
    "    def gradient_decent(self):\n",
    "        \n",
    "        previous_likelihood = self.log_likelihood()\n",
    "        difference = self.tolerance+1\n",
    "        iteration = 0\n",
    "        self.likelihood_history = [previous_likelihood]\n",
    "        while (difference > self.tolerance) and (iteration < self.max_epochs):\n",
    "            if self.use_adaptive:\n",
    "                alpha_current = self.adaptive_learning_rate(iteration)\n",
    "            else:\n",
    "                alpha_current = self.training_alpha\n",
    "            self.w = self.w + alpha_current*self.log_likelihood_gradient()\n",
    "            temp = self.log_likelihood()\n",
    "            difference = np.abs(temp-previous_likelihood)\n",
    "            previous_likelihood = temp\n",
    "            self.likelihood_history.append(previous_likelihood)\n",
    "            iteration += 1\n",
    "    \n",
    "    def adaptive_learning_rate(self, epoch=0):\n",
    "        return self.training_alpha * np.exp(-1.0 * epoch * self.decay_factor / float(self.max_epochs))\n",
    "            \n",
    "            \n",
    "    def stocastic_gradient_decent(self):\n",
    "        difference = self.tolerance+1.\n",
    "        previous_likelihood = self.log_likelihood()\n",
    "        rows = range(len(self.features))\n",
    "        np.random.shuffle(rows)\n",
    "        self.shuffled_features = self.shuffled_features[rows,:]\n",
    "        self.shuffled_labels = self.shuffled_labels[rows]\n",
    "        iteration = 0\n",
    "        self.likelihood_history = [previous_likelihood]\n",
    "        \n",
    "        while (difference > self.tolerance) & (iteration < self.max_epochs):\n",
    "            for i in xrange(len(self.features)):\n",
    "                self.w = self.w + self.training_alpha*self.row_log_likelihood_gradient(i)\n",
    "            temp = self.log_likelihood()\n",
    "            difference = np.abs(temp - previous_likelihood)\n",
    "            \n",
    "            #print previous_likelihood, temp, difference\n",
    "            \n",
    "            previous_likelihood = temp    \n",
    "\n",
    "            np.random.shuffle(rows)\n",
    "            self.shuffled_features = self.shuffled_features[rows,:]\n",
    "            self.shuffled_labels = self.shuffled_labels[rows]\n",
    "            iteration += 1\n",
    "            self.likelihood_history.append(previous_likelihood)\n",
    "\n",
    "    def predict_probabilty(self,X):\n",
    "        features = np.ones((X.shape[0],X.shape[1]+1))\n",
    "        features[:,1:] = (X-self.mean_x)/self.std_x\n",
    "        return 1/(1+np.exp(-features.dot(self.w)))\n",
    "\n",
    "    def get_coefficients(self):\n",
    "        new_coef = self.w.T[0]/np.hstack((1,self.std_x))\n",
    "        new_coef[0] = self.w.T[0][0]-(self.mean_x*self.w.T[0][1:]/self.std_x).sum()\n",
    "        return new_coef"
   ]
  },
  {
   "cell_type": "code",
   "execution_count": 39,
   "metadata": {
    "collapsed": false
   },
   "outputs": [
    {
     "name": "stdout",
     "output_type": "stream",
     "text": [
      "(100, 2)\n",
      "(100,)\n"
     ]
    }
   ],
   "source": [
    "print X.shape\n",
    "print y.shape"
   ]
  },
  {
   "cell_type": "code",
   "execution_count": 121,
   "metadata": {
    "collapsed": false
   },
   "outputs": [
    {
     "data": {
      "image/png": "[encoded data removed]",
      "text/plain": [
       "<matplotlib.figure.Figure at 0x7efd4aa24250>"
      ]
     },
     "metadata": {},
     "output_type": "display_data"
    },
    {
     "name": "stdout",
     "output_type": "stream",
     "text": [
      "[69.314718055994533, 64.425163584693323, 20.658283483634523, 9.7798697829916108, 9.1648816012910128, 9.0551518442706218, 8.9773483729799715, 9.109038500339933, 8.990469307016328, 9.1366643114323782, 8.9861713555849683]\n",
      "[69.314718055994533, 64.425163584693323, 26.472338447984782, 14.94085648924302, 10.494792752125154, 9.4193180688446407, 9.1820685522732113, 9.0618336006170424, 8.9885450736635963, 8.9414432085716093, 8.9099178013828091]\n"
     ]
    }
   ],
   "source": [
    "lr1 = LogisticRegression(X, y, alpha=0.4, max_epochs=10)\n",
    "lr1.gradient_decent()\n",
    "\n",
    "lr2 = LogisticRegression(X, y, alpha=0.4, max_epochs=10, decay_factor=2.0, use_adaptive=True)\n",
    "lr2.gradient_decent()\n",
    "\n",
    "plt.plot(lr1.likelihood_history, 'r')\n",
    "plt.plot(lr2.likelihood_history, 'g')\n",
    "plt.show()\n",
    "\n",
    "print lr1.likelihood_history\n",
    "print lr2.likelihood_history"
   ]
  },
  {
   "cell_type": "code",
   "execution_count": 56,
   "metadata": {
    "collapsed": false
   },
   "outputs": [
    {
     "name": "stdout",
     "output_type": "stream",
     "text": [
      "4\n"
     ]
    }
   ],
   "source": [
    "alphas = [0.01, 0.05, 0.1, 10.5]\n",
    "err = []\n",
    "for ax in alphas:\n",
    "    lr = LogisticRegression(X, y, alpha=ax, max_epochs=200)\n",
    "    lr.gradient_decent()\n",
    "    err.append(lr.likelihood_history)\n",
    "print len(err)"
   ]
  },
  {
   "cell_type": "code",
   "execution_count": 58,
   "metadata": {
    "collapsed": false
   },
   "outputs": [
    {
     "data": {
      "image/png": "[encoded data removed]",
      "text/plain": [
       "<matplotlib.figure.Figure at 0x7efd4b2da410>"
      ]
     },
     "metadata": {},
     "output_type": "display_data"
    }
   ],
   "source": [
    "plt.figure(0)\n",
    "n = 100\n",
    "plt.plot(err[0][:n], 'r')\n",
    "plt.plot(err[1][:n], 'g')\n",
    "plt.plot(err[2][:n], 'b')\n",
    "plt.plot(err[3][:n], 'black')\n",
    "plt.show()"
   ]
  },
  {
   "cell_type": "code",
   "execution_count": 59,
   "metadata": {
    "collapsed": true
   },
   "outputs": [],
   "source": [
    "def adaptive_alpha(alpha, epoch, total_epochs):\n",
    "    # Update value of alpha to decrease as training progresses\n",
    "    return 0"
   ]
  },
  {
   "cell_type": "code",
   "execution_count": 93,
   "metadata": {
    "collapsed": true
   },
   "outputs": [],
   "source": [
    "def f3(a, t, n, c):\n",
    "    return a*np.exp(-1.0*t/float(n*c))"
   ]
  },
  {
   "cell_type": "code",
   "execution_count": 101,
   "metadata": {
    "collapsed": false
   },
   "outputs": [],
   "source": [
    "N = 100\n",
    "t = range(N)\n",
    "a = 0.1\n",
    "\n",
    "z3 = []\n",
    "\n",
    "for ix in range(N):\n",
    "    z3.append(f3(a, ix, N, 10.0))"
   ]
  },
  {
   "cell_type": "code",
   "execution_count": null,
   "metadata": {
    "collapsed": false
   },
   "outputs": [],
   "source": []
  },
  {
   "cell_type": "code",
   "execution_count": null,
   "metadata": {
    "collapsed": false
   },
   "outputs": [],
   "source": []
  }
 ],
 "metadata": {
  "anaconda-cloud": {},
  "kernelspec": {
   "display_name": "Python [default]",
   "language": "python",
   "name": "python2"
  },
  "language_info": {
   "codemirror_mode": {
    "name": "ipython",
    "version": 2
   },
   "file_extension": ".py",
   "mimetype": "text/x-python",
   "name": "python",
   "nbconvert_exporter": "python",
   "pygments_lexer": "ipython2",
   "version": "2.7.12"
  }
 },
 "nbformat": 4,
 "nbformat_minor": 0
}

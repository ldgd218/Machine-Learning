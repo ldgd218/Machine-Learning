{
 "cells": [
  {
   "cell_type": "code",
   "execution_count": 18,
   "metadata": {
    "collapsed": true
   },
   "outputs": [],
   "source": [
    "import numpy as np\n",
    "from matplotlib import pyplot as plt\n",
    "%matplotlib inline\n",
    "import sklearn\n",
    "from sklearn.naive_bayes import BaseNB, GaussianNB\n",
    "import pandas as pd"
   ]
  },
  {
   "cell_type": "code",
   "execution_count": 9,
   "metadata": {
    "collapsed": false
   },
   "outputs": [
    {
     "name": "stdout",
     "output_type": "stream",
     "text": [
      "(300, 2) (300, 2)\n"
     ]
    }
   ],
   "source": [
    "mean_1 = [0.0, 0.0]\n",
    "mean_2 = [3.0, 4.0]\n",
    "cov_1 = [[0.9, 0.4], [0.3, 0.7]]\n",
    "cov_2 = [[1.0, 0.1], [0.5, 0.6]]\n",
    "\n",
    "d1 = np.random.multivariate_normal(mean_1, cov_1, 300)\n",
    "d2 = np.random.multivariate_normal(mean_2, cov_2, 300)\n",
    "\n",
    "print d1.shape, d2.shape"
   ]
  },
  {
   "cell_type": "code",
   "execution_count": 10,
   "metadata": {
    "collapsed": false
   },
   "outputs": [
    {
     "name": "stdout",
     "output_type": "stream",
     "text": [
      "(600, 3)\n",
      "[ 1.  1.  1.  0.  0.  0.  1.  0.  0.  1.]\n"
     ]
    }
   ],
   "source": [
    "d = np.zeros((d1.shape[0] + d2.shape[0], d1.shape[1]+1))\n",
    "d[:d1.shape[0], :2] = d1\n",
    "d[d1.shape[0]:, :2] = d2\n",
    "d[d1.shape[0]:, 2] = 1\n",
    "print d.shape\n",
    "np.random.shuffle(d)\n",
    "print d[150:160, 2]"
   ]
  },
  {
   "cell_type": "code",
   "execution_count": 13,
   "metadata": {
    "collapsed": false
   },
   "outputs": [
    {
     "data": {
      "image/png": "[encoded data removed]",
      "text/plain": [
       "<matplotlib.figure.Figure at 0x887f2d0>"
      ]
     },
     "metadata": {},
     "output_type": "display_data"
    }
   ],
   "source": [
    "plt.figure(0)\n",
    "plt.scatter(d1[:, 0], d1[:, 1], color='red')\n",
    "plt.scatter(d2[:, 0], d2[:, 1], color='green')\n",
    "plt.show()"
   ]
  },
  {
   "cell_type": "code",
   "execution_count": 11,
   "metadata": {
    "collapsed": false
   },
   "outputs": [
    {
     "name": "stdout",
     "output_type": "stream",
     "text": [
      "(450, 2) (150, 2)\n",
      "(450,) (150,)\n"
     ]
    }
   ],
   "source": [
    "split = int(0.75 * d.shape[0])\n",
    "X_train = d[:split, :2]\n",
    "X_test = d[split:, :2]\n",
    "y_train = d[:split, 2]\n",
    "y_test = d[split:, 2]\n",
    "\n",
    "print X_train.shape, X_test.shape\n",
    "print y_train.shape, y_test.shape"
   ]
  },
  {
   "cell_type": "code",
   "execution_count": 16,
   "metadata": {
    "collapsed": false
   },
   "outputs": [
    {
     "name": "stdout",
     "output_type": "stream",
     "text": [
      "0:00:00\n",
      "Accuracy: 99.3333333333\n"
     ]
    }
   ],
   "source": [
    "import datetime\n",
    "nb = GaussianNB()\n",
    "start = datetime.datetime.now()\n",
    "nb.fit(X_train, y_train)\n",
    "end = datetime.datetime.now()\n",
    "print end-start\n",
    "\n",
    "print \"Accuracy:\", 100*nb.score(X_test, y_test)"
   ]
  },
  {
   "cell_type": "code",
   "execution_count": 29,
   "metadata": {
    "collapsed": false
   },
   "outputs": [
    {
     "name": "stdout",
     "output_type": "stream",
     "text": [
      "(10000, 785)\n"
     ]
    }
   ],
   "source": [
    "ds = pd.read_csv('./Machine Learning Bootcamp/mnist_data/train.csv')\n",
    "data = ds.values[:10000]\n",
    "print data.shape"
   ]
  },
  {
   "cell_type": "code",
   "execution_count": 30,
   "metadata": {
    "collapsed": false
   },
   "outputs": [
    {
     "name": "stdout",
     "output_type": "stream",
     "text": [
      "(10000, 784)\n",
      "33.5456364796 -8.64723258984e-17\n",
      "78.8147108194 1.0\n"
     ]
    }
   ],
   "source": [
    "X = data[:, 1:]\n",
    "print X.shape\n",
    "\n",
    "Z = (X-X.mean())/X.std()\n",
    "\n",
    "print X.mean(), Z.mean()\n",
    "print X.std(), Z.std()"
   ]
  },
  {
   "cell_type": "code",
   "execution_count": 34,
   "metadata": {
    "collapsed": false
   },
   "outputs": [
    {
     "name": "stdout",
     "output_type": "stream",
     "text": [
      "(8000, 784) (2000, 784)\n",
      "(8000,) (2000,)\n"
     ]
    }
   ],
   "source": [
    "split = int(0.8 * Z.shape[0])\n",
    "X_train = Z[:split]\n",
    "X_test = Z[split:]\n",
    "y_train = data[:split, 0]\n",
    "y_test = data[split:, 0]\n",
    "\n",
    "print X_train.shape, X_test.shape\n",
    "print y_train.shape, y_test.shape"
   ]
  },
  {
   "cell_type": "code",
   "execution_count": 36,
   "metadata": {
    "collapsed": false
   },
   "outputs": [
    {
     "name": "stdout",
     "output_type": "stream",
     "text": [
      "0.5505\n"
     ]
    }
   ],
   "source": [
    "nb = GaussianNB()\n",
    "nb.fit(X_train, y_train)\n",
    "\n",
    "print nb.score(X_test, y_test)"
   ]
  },
  {
   "cell_type": "code",
   "execution_count": null,
   "metadata": {
    "collapsed": true
   },
   "outputs": [],
   "source": []
  },
  {
   "cell_type": "code",
   "execution_count": null,
   "metadata": {
    "collapsed": true
   },
   "outputs": [],
   "source": []
  }
 ],
 "metadata": {
  "anaconda-cloud": {},
  "kernelspec": {
   "display_name": "Python [default]",
   "language": "python",
   "name": "python2"
  },
  "language_info": {
   "codemirror_mode": {
    "name": "ipython",
    "version": 2
   },
   "file_extension": ".py",
   "mimetype": "text/x-python",
   "name": "python",
   "nbconvert_exporter": "python",
   "pygments_lexer": "ipython2",
   "version": "2.7.12"
  }
 },
 "nbformat": 4,
 "nbformat_minor": 2
}

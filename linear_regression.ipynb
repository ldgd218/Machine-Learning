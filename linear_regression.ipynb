{
 "cells": [
  {
   "cell_type": "code",
   "execution_count": 3,
   "metadata": {
    "collapsed": true
   },
   "outputs": [],
   "source": [
    "import numpy as np\n",
    "import matplotlib.pyplot as plt\n",
    "%matplotlib inline"
   ]
  },
  {
   "cell_type": "code",
   "execution_count": 4,
   "metadata": {
    "collapsed": false
   },
   "outputs": [],
   "source": [
    "def pred_output(X, params):\n",
    "    # print X[:10]\n",
    "    # print params\n",
    "    # print '----------------------'\n",
    "    y = [0 for px in range(X.shape[0])]\n",
    "    for ex in range(X.shape[0]):\n",
    "        for ix in range(X.shape[1]):\n",
    "            y[ex] += params[ix]*X[ex, ix]\n",
    "    \n",
    "    return np.asarray(y)\n",
    "\n",
    "def objective_loss(y_true, X, params):\n",
    "    y_pred = pred_output(X, params)\n",
    "    L = 0.0\n",
    "    for ix in range(y_pred.shape[0]):\n",
    "        L += (y_true[ix] - y_pred[ix])**2\n",
    "    L = L/(2*len(y_pred))\n",
    "    # print L\n",
    "    return L\n",
    "\n",
    "def loss_wrt_grad(X, params, y_true):\n",
    "    y_pred = pred_output(X, params)\n",
    "    dL = [0.0 for dw in range(params.shape[0])]\n",
    "    # print X[:10]\n",
    "    for lx in range(len(dL)):\n",
    "        err_sum = 0.0\n",
    "        for ix in range(y_pred.shape[0]):\n",
    "            err_sum += (y_pred[ix] - y_true[ix]) * X[ix, lx]\n",
    "        dL[lx] = err_sum/y_pred.shape[0]\n",
    "        # print err_sum\n",
    "    # print dL, \"DLOSS\"\n",
    "    return np.asarray(dL)\n",
    "\n",
    "def grad_desc(X, params, y_true, alpha=0.01):\n",
    "    dL = alpha*loss_wrt_grad(X, params, y_true)\n",
    "    # print dL.shape\n",
    "    # print dL\n",
    "    for px in range(params.shape[0]):\n",
    "        params[px] = params[px] - dL[px]\n",
    "    return np.asarray(params)\n",
    "\n",
    "def run_gradient_descent(X_train, y_train, epochs=10, alpha=0.01):\n",
    "    params = np.zeros((X_train.shape[1] + 1,)) + 0.1\n",
    "    X = np.zeros((X_train.shape[0], X_train.shape[1]+1))\n",
    "    \n",
    "    X[:, 0] = 1.0\n",
    "    X[:, 1:] = X_train\n",
    "    \n",
    "    loss_history = []\n",
    "    \n",
    "    initial_loss = objective_loss(y_train, X, params)\n",
    "    loss_history.append(initial_loss)\n",
    "    param_history = []\n",
    "    for epx in range(epochs):\n",
    "        params = grad_desc(X, params, y_train, alpha)\n",
    "        param_history.append(params)\n",
    "        loss_history.append(objective_loss(y_train, X, params))\n",
    "    \n",
    "    return params, loss_history"
   ]
  },
  {
   "cell_type": "code",
   "execution_count": null,
   "metadata": {
    "collapsed": false
   },
   "outputs": [],
   "source": []
  },
  {
   "cell_type": "code",
   "execution_count": null,
   "metadata": {
    "collapsed": false
   },
   "outputs": [],
   "source": []
  },
  {
   "cell_type": "code",
   "execution_count": null,
   "metadata": {
    "collapsed": false
   },
   "outputs": [],
   "source": []
  },
  {
   "cell_type": "code",
   "execution_count": null,
   "metadata": {
    "collapsed": false
   },
   "outputs": [],
   "source": []
  },
  {
   "cell_type": "code",
   "execution_count": 5,
   "metadata": {
    "collapsed": true
   },
   "outputs": [],
   "source": [
    "a = \"\"\"4\n",
    "390\n",
    "9\n",
    "580\n",
    "10\n",
    "650\n",
    "14\n",
    "730\n",
    "4\n",
    "410\n",
    "7\n",
    "530\n",
    "12\n",
    "600\n",
    "22\n",
    "790\n",
    "1\n",
    "350\n",
    "3\n",
    "400\n",
    "8\n",
    "590\n",
    "11\n",
    "640\n",
    "5\n",
    "450\n",
    "6\n",
    "520\n",
    "10\n",
    "690\n",
    "11\n",
    "690\n",
    "16\n",
    "770\n",
    "13\n",
    "700\n",
    "13\n",
    "730\n",
    "10\n",
    "640\"\"\""
   ]
  },
  {
   "cell_type": "code",
   "execution_count": 6,
   "metadata": {
    "collapsed": false
   },
   "outputs": [
    {
     "data": {
      "text/plain": [
       "[<matplotlib.lines.Line2D at 0x7b55278>]"
      ]
     },
     "execution_count": 6,
     "metadata": {},
     "output_type": "execute_result"
    },
    {
     "data": {
      "image/png": "[encoded data removed]",
      "text/plain": [
       "<matplotlib.figure.Figure at 0x7b756d8>"
      ]
     },
     "metadata": {},
     "output_type": "display_data"
    }
   ],
   "source": [
    "d = a.split('\\n')\n",
    "x = d[0::2]\n",
    "y = d[1::2]\n",
    "X = np.zeros((len(x), 1))\n",
    "y = np.zeros((len(y),))\n",
    "\n",
    "for ix in range(len(x)):\n",
    "    X[ix, :] = int(x[ix])\n",
    "    y[ix] = int(d[1::2][ix])\n",
    "\n",
    "plt.plot(X[:, 0], y, '*')"
   ]
  },
  {
   "cell_type": "code",
   "execution_count": 7,
   "metadata": {
    "collapsed": false
   },
   "outputs": [
    {
     "name": "stdout",
     "output_type": "stream",
     "text": [
      "[  6.70642429  52.92176892] 13748.8333083\n"
     ]
    },
    {
     "data": {
      "text/plain": [
       "[<matplotlib.lines.Line2D at 0x811deb8>]"
      ]
     },
     "execution_count": 7,
     "metadata": {},
     "output_type": "execute_result"
    },
    {
     "data": {
      "image/png": "[encoded data removed]",
      "text/plain": [
       "<matplotlib.figure.Figure at 0x7f102e8>"
      ]
     },
     "metadata": {},
     "output_type": "display_data"
    }
   ],
   "source": [
    "z = run_gradient_descent(X, y, epochs=30, alpha=0.001)\n",
    "print z[0], z[1][-1]\n",
    "plt.plot(z[1])"
   ]
  },
  {
   "cell_type": "code",
   "execution_count": 8,
   "metadata": {
    "collapsed": false
   },
   "outputs": [
    {
     "name": "stdout",
     "output_type": "stream",
     "text": [
      "13748.8333083\n"
     ]
    }
   ],
   "source": [
    "p = z[0]\n",
    "k = np.hstack([np.ones((X.shape)), X])\n",
    "pp = (k*p).sum(axis=1)\n",
    "print np.sum((y-pp)**2)/(2*y.shape[0])"
   ]
  },
  {
   "cell_type": "code",
   "execution_count": null,
   "metadata": {
    "collapsed": true
   },
   "outputs": [],
   "source": []
  }
 ],
 "metadata": {
  "kernelspec": {
   "display_name": "Python [default]",
   "language": "python",
   "name": "python2"
  },
  "language_info": {
   "codemirror_mode": {
    "name": "ipython",
    "version": 2
   },
   "file_extension": ".py",
   "mimetype": "text/x-python",
   "name": "python",
   "nbconvert_exporter": "python",
   "pygments_lexer": "ipython2",
   "version": "2.7.12"
  }
 },
 "nbformat": 4,
 "nbformat_minor": 0
}

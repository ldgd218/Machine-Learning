{
 "cells": [
  {
   "cell_type": "code",
   "execution_count": 48,
   "metadata": {
    "collapsed": false,
    "scrolled": true
   },
   "outputs": [
    {
     "name": "stdout",
     "output_type": "stream",
     "text": [
      "Populating the interactive namespace from numpy and matplotlib\n"
     ]
    }
   ],
   "source": [
    "import pandas as pd\n",
    "from matplotlib import pyplot as plt\n",
    "%matplotlib inline\n",
    "%pylab inline\n",
    "import numpy as np"
   ]
  },
  {
   "cell_type": "code",
   "execution_count": 49,
   "metadata": {
    "collapsed": false
   },
   "outputs": [],
   "source": [
    "# ds_train = pd.read_csv('train.csv')\n",
    "ds_test = pd.read_csv('test.csv')"
   ]
  },
  {
   "cell_type": "code",
   "execution_count": 68,
   "metadata": {
    "collapsed": false
   },
   "outputs": [
    {
     "name": "stdout",
     "output_type": "stream",
     "text": [
      "(28000L, 784L)\n",
      "[[ 0.  0.  0. ...,  0.  0.  0.]\n",
      " [ 0.  0.  0. ...,  0.  0.  0.]\n",
      " [ 0.  0.  0. ...,  0.  0.  0.]\n",
      " [ 0.  0.  0. ...,  0.  0.  0.]]\n"
     ]
    }
   ],
   "source": [
    "# data = ds_train.values\n",
    "data = ds_test.values\n",
    "print data.shape\n",
    "means = np.mean(data[:, :], axis=0)\n",
    "cm = np.cov(data[:, :], rowvar=0)\n",
    "\n",
    "data_std = (data - means)/(data.std(axis=0)+1e-03)\n",
    "print data_std[1:5]\n",
    "\n",
    "mean_std = np.mean(data, axis=0)\n",
    "cm_std = np.cov(data_std, rowvar=0)"
   ]
  },
  {
   "cell_type": "code",
   "execution_count": 69,
   "metadata": {
    "collapsed": false
   },
   "outputs": [
    {
     "name": "stdout",
     "output_type": "stream",
     "text": [
      "[ 0.  0.  0.  0.  0.  0.  0.  0.  0.  0.]\n",
      "[[ 0.99996664  0.80112268  0.56703557  0.40000529  0.28095423]\n",
      " [ 0.80112268  0.99998481  0.83354413  0.59697117  0.41309186]\n",
      " [ 0.56703557  0.83354413  0.99999548  0.83747834  0.59783897]\n",
      " [ 0.40000529  0.59697117  0.83747834  1.00000228  0.83537695]\n",
      " [ 0.28095423  0.41309186  0.59783897  0.83537695  1.00000676]]\n"
     ]
    }
   ],
   "source": [
    "print mean_std[:10]\n",
    "print cm_std[120:125, 120:125]"
   ]
  },
  {
   "cell_type": "code",
   "execution_count": 70,
   "metadata": {
    "collapsed": false,
    "scrolled": false
   },
   "outputs": [],
   "source": [
    "# Computing the scatter matrix for the dataset\n",
    "X = data[:, :]\n",
    "# Y = data[:, 0]\n",
    "sm = np.empty_like(cm)\n",
    "# dt = (X[0, :].reshape(means.shape[0], 1) - means.reshape(means.shape[0], 1)).dot((X[0, :].reshape(means.shape[0], 1) - means.reshape(means.shape[0], 1)).T)\n",
    "for ix in range(data.shape[0]):\n",
    "    sm += (X[ix, :].reshape(means.shape[0], 1) - means.reshape(means.shape[0], 1)).dot((X[ix, :].reshape(means.shape[0], 1) - means.reshape(means.shape[0], 1)).T)"
   ]
  },
  {
   "cell_type": "code",
   "execution_count": 71,
   "metadata": {
    "collapsed": false
   },
   "outputs": [],
   "source": [
    "eig_val_sc, eig_vec_sc = np.linalg.eig(sm)\n",
    "eig_val_cm, eig_vec_cm = np.linalg.eig(cm)"
   ]
  },
  {
   "cell_type": "code",
   "execution_count": 72,
   "metadata": {
    "collapsed": false
   },
   "outputs": [],
   "source": [
    "scaling_f = eig_val_sc/eig_val_cm"
   ]
  },
  {
   "cell_type": "code",
   "execution_count": 73,
   "metadata": {
    "collapsed": false
   },
   "outputs": [
    {
     "name": "stdout",
     "output_type": "stream",
     "text": [
      "(784L, 784L)\n",
      "(784L,)\n"
     ]
    },
    {
     "data": {
      "image/png": "[encoded data removed]",
      "text/plain": [
       "<matplotlib.figure.Figure at 0x9f93a20>"
      ]
     },
     "metadata": {},
     "output_type": "display_data"
    }
   ],
   "source": [
    "print eig_vec_sc.shape\n",
    "print scaling_f.shape\n",
    "# plt.plot(eig_val_cm, 'r')\n",
    "# plt.plot(eig_val_sc)\n",
    "plt.plot(scaling_f[500:])\n",
    "plt.show()"
   ]
  },
  {
   "cell_type": "code",
   "execution_count": 74,
   "metadata": {
    "collapsed": false
   },
   "outputs": [],
   "source": [
    "eig_pairs = [(np.abs(eig_val_sc[i]), eig_vec_sc[:,i])\n",
    "             for i in range(len(eig_val_sc))]\n",
    "eig_pairs.sort(key=lambda x:x[0])\n",
    "eig_pairs.reverse()"
   ]
  },
  {
   "cell_type": "code",
   "execution_count": 75,
   "metadata": {
    "collapsed": false
   },
   "outputs": [
    {
     "name": "stdout",
     "output_type": "stream",
     "text": [
      "1.97751576941e-10\n"
     ]
    },
    {
     "data": {
      "image/png": "[encoded data removed]",
      "text/plain": [
       "<matplotlib.figure.Figure at 0xa4f3320>"
      ]
     },
     "metadata": {},
     "output_type": "display_data"
    }
   ],
   "source": [
    "vals = np.zeros(len(eig_pairs))\n",
    "for ix in range(len(eig_pairs)):\n",
    "    vals[ix] = eig_pairs[ix][0]\n",
    "print vals[700]\n",
    "plt.plot(vals)\n",
    "plt.show()"
   ]
  },
  {
   "cell_type": "code",
   "execution_count": 76,
   "metadata": {
    "collapsed": false
   },
   "outputs": [
    {
     "name": "stdout",
     "output_type": "stream",
     "text": [
      "moving to save the new dataset\n"
     ]
    }
   ],
   "source": [
    "# select k dimensions out of all dimensions for feature space\n",
    "k = 442\n",
    "d = eig_pairs[0][1].shape[0] #\n",
    "selected = [] \n",
    "\n",
    "for ix in range(k):\n",
    "    selected.append(eig_pairs[ix][1].reshape(d, 1))\n",
    "\n",
    "# Now stack the selected eigenvectors in W matrix\n",
    "mat_W = np.hstack(selected)\n",
    "print \"moving to save the new dataset\""
   ]
  },
  {
   "cell_type": "code",
   "execution_count": 77,
   "metadata": {
    "collapsed": false,
    "scrolled": true
   },
   "outputs": [
    {
     "name": "stdout",
     "output_type": "stream",
     "text": [
      "(784L, 442L)\n",
      "(784L, 28000L)\n",
      "(28000L, 442L)\n"
     ]
    }
   ],
   "source": [
    "print mat_W.shape\n",
    "print X.T.shape\n",
    "y = (mat_W.T).dot(X.T)\n",
    "print y.T.shape"
   ]
  },
  {
   "cell_type": "code",
   "execution_count": 78,
   "metadata": {
    "collapsed": false
   },
   "outputs": [
    {
     "name": "stdout",
     "output_type": "stream",
     "text": [
      "(28000L, 442L)\n"
     ]
    }
   ],
   "source": [
    "# saving the new dataset in train_200.csv file\n",
    "dt_250 = y.T\n",
    "print dt_250.shape\n",
    "# np.savetxt('train_250.csv', dt_250, delimiter=',')\n",
    "np.savetxt('test_250.csv', dt_250, delimiter=',')"
   ]
  },
  {
   "cell_type": "code",
   "execution_count": 79,
   "metadata": {
    "collapsed": true
   },
   "outputs": [],
   "source": [
    "import sklearn\n",
    "from sklearn.decomposition import PCA"
   ]
  },
  {
   "cell_type": "code",
   "execution_count": 81,
   "metadata": {
    "collapsed": false
   },
   "outputs": [
    {
     "name": "stdout",
     "output_type": "stream",
     "text": [
      "(28000L, 784L)\n"
     ]
    }
   ],
   "source": [
    "pca = PCA(n_components=784)\n",
    "\n",
    "X = pca.fit_transform(data_std)\n",
    "print X.shape"
   ]
  },
  {
   "cell_type": "code",
   "execution_count": 84,
   "metadata": {
    "collapsed": false
   },
   "outputs": [],
   "source": [
    "trans_cm = np.cov(X, rowvar=0)"
   ]
  },
  {
   "cell_type": "code",
   "execution_count": 86,
   "metadata": {
    "collapsed": false
   },
   "outputs": [],
   "source": [
    "v = pca.explained_variance_ratio_\n",
    "cs = np.cumsum(v)/np.sum(v)"
   ]
  },
  {
   "cell_type": "code",
   "execution_count": 87,
   "metadata": {
    "collapsed": false
   },
   "outputs": [
    {
     "name": "stdout",
     "output_type": "stream",
     "text": [
      "0.0991070072632\n"
     ]
    },
    {
     "data": {
      "image/png": "[encoded data removed]",
      "text/plain": [
       "<matplotlib.figure.Figure at 0x162f6e10>"
      ]
     },
     "metadata": {},
     "output_type": "display_data"
    }
   ],
   "source": [
    "print cs[1]\n",
    "plt.plot(cs)\n",
    "plt.show()"
   ]
  },
  {
   "cell_type": "code",
   "execution_count": null,
   "metadata": {
    "collapsed": true
   },
   "outputs": [],
   "source": []
  }
 ],
 "metadata": {
  "anaconda-cloud": {},
  "kernelspec": {
   "display_name": "Python [default]",
   "language": "python",
   "name": "python2"
  },
  "language_info": {
   "codemirror_mode": {
    "name": "ipython",
    "version": 2
   },
   "file_extension": ".py",
   "mimetype": "text/x-python",
   "name": "python",
   "nbconvert_exporter": "python",
   "pygments_lexer": "ipython2",
   "version": "2.7.12"
  }
 },
 "nbformat": 4,
 "nbformat_minor": 0
}

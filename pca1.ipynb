{
 "cells": [
  {
   "cell_type": "code",
   "execution_count": 4,
   "metadata": {
    "collapsed": false,
    "scrolled": true
   },
   "outputs": [],
   "source": [
    "import pandas as pd\n",
    "from matplotlib import pyplot as plt\n",
    "%matplotlib inline\n",
    "import numpy as np"
   ]
  },
  {
   "cell_type": "code",
   "execution_count": 106,
   "metadata": {
    "collapsed": true
   },
   "outputs": [],
   "source": [
    "ds_test = pd.read_csv('train.csv')\n",
    "# ds_test = pd.read_csv('test.csv')"
   ]
  },
  {
   "cell_type": "code",
   "execution_count": 116,
   "metadata": {
    "collapsed": false
   },
   "outputs": [
    {
     "name": "stdout",
     "output_type": "stream",
     "text": [
      "(42000,)\n",
      "(42000, 784)\n",
      "(42000, 784)\n"
     ]
    }
   ],
   "source": [
    "# data = ds_train.values\n",
    "data = ds_test.values[:, 1:]\n",
    "labels = ds_test.values[:, 0]\n",
    "print labels.shape\n",
    "print data.shape\n",
    "# means = np.mean(data[:, :], axis=0)\n",
    "# cm = np.cov(data[:, :], rowvar=0)\n",
    "\n",
    "data_std = (data - data.mean(axis=0))/(data.std(axis=0)+1e-03)\n",
    "print data_std.shape\n",
    "\n",
    "# mean_std = np.mean(data_std, axis=0)\n",
    "# cm_std = np.cov(data_std, rowvar=0)"
   ]
  },
  {
   "cell_type": "code",
   "execution_count": 22,
   "metadata": {
    "collapsed": false,
    "scrolled": false
   },
   "outputs": [
    {
     "name": "stdout",
     "output_type": "stream",
     "text": [
      "[ 0.  0.  0.  0.  0.  0.  0.  0.  0.  0.]\n",
      "[[ 0.99996664  0.80112268  0.56703557  0.40000529  0.28095423]\n",
      " [ 0.80112268  0.99998481  0.83354413  0.59697117  0.41309186]\n",
      " [ 0.56703557  0.83354413  0.99999548  0.83747834  0.59783897]\n",
      " [ 0.40000529  0.59697117  0.83747834  1.00000228  0.83537695]\n",
      " [ 0.28095423  0.41309186  0.59783897  0.83537695  1.00000676]]\n"
     ]
    }
   ],
   "source": [
    "print mean_std[:10]\n",
    "print cm_std[120:125, 120:125]"
   ]
  },
  {
   "cell_type": "code",
   "execution_count": 23,
   "metadata": {
    "collapsed": false
   },
   "outputs": [],
   "source": [
    "eig_val_cm, eig_vec_cm = np.linalg.eig(cm)\n",
    "eig_val_std, eig_vec_std = np.linalg.eig(cm_std)"
   ]
  },
  {
   "cell_type": "code",
   "execution_count": 30,
   "metadata": {
    "collapsed": false
   },
   "outputs": [
    {
     "name": "stdout",
     "output_type": "stream",
     "text": [
      "[ 333767.61789515+0.j  244771.26666388+0.j  211038.83434473+0.j\n",
      "  186314.44403161+0.j  167023.03228781+0.j]\n",
      "[ 40.40277806  29.02058082  27.01005154  20.81004038  18.17692652]\n"
     ]
    }
   ],
   "source": [
    "print eig_val_cm[:5]\n",
    "print eig_val_std[:5]"
   ]
  },
  {
   "cell_type": "code",
   "execution_count": 34,
   "metadata": {
    "collapsed": false
   },
   "outputs": [
    {
     "data": {
      "image/png": "[encoded data removed]",
      "text/plain": [
       "<matplotlib.figure.Figure at 0x7fb63282ff90>"
      ]
     },
     "metadata": {},
     "output_type": "display_data"
    }
   ],
   "source": [
    "plt.figure(0)\n",
    "plt.plot(eig_val_std[100:])\n",
    "plt.show()"
   ]
  },
  {
   "cell_type": "code",
   "execution_count": 37,
   "metadata": {
    "collapsed": false
   },
   "outputs": [
    {
     "name": "stdout",
     "output_type": "stream",
     "text": [
      "(784,)\n"
     ]
    }
   ],
   "source": [
    "eig_cm = np.cumsum(eig_val_std)/np.sum(eig_val_std)\n",
    "print eig_cm.shape"
   ]
  },
  {
   "cell_type": "code",
   "execution_count": 38,
   "metadata": {
    "collapsed": false
   },
   "outputs": [
    {
     "data": {
      "image/png": "[encoded data removed]",
      "text/plain": [
       "<matplotlib.figure.Figure at 0x7fb6336812d0>"
      ]
     },
     "metadata": {},
     "output_type": "display_data"
    }
   ],
   "source": [
    "plt.figure(0)\n",
    "plt.plot(eig_cm)\n",
    "plt.show()"
   ]
  },
  {
   "cell_type": "code",
   "execution_count": 40,
   "metadata": {
    "collapsed": false
   },
   "outputs": [
    {
     "name": "stdout",
     "output_type": "stream",
     "text": [
      "452\n"
     ]
    }
   ],
   "source": [
    "for ix in range(eig_cm.shape[0]):\n",
    "    if eig_cm[ix] >= 0.98:\n",
    "        print ix\n",
    "        break"
   ]
  },
  {
   "cell_type": "code",
   "execution_count": 47,
   "metadata": {
    "collapsed": false
   },
   "outputs": [
    {
     "name": "stdout",
     "output_type": "stream",
     "text": [
      "(784, 784)\n"
     ]
    }
   ],
   "source": [
    "print eig_vec_std.shape"
   ]
  },
  {
   "cell_type": "code",
   "execution_count": 41,
   "metadata": {
    "collapsed": false
   },
   "outputs": [],
   "source": [
    "eig_pairs = [(np.abs(eig_val_std[i]), eig_vec_std[:,i])\n",
    "             for i in range(len(eig_val_std))]\n",
    "eig_pairs.sort(key=lambda x:x[0])\n",
    "eig_pairs.reverse()"
   ]
  },
  {
   "cell_type": "code",
   "execution_count": null,
   "metadata": {
    "collapsed": false
   },
   "outputs": [],
   "source": []
  },
  {
   "cell_type": "code",
   "execution_count": 50,
   "metadata": {
    "collapsed": false
   },
   "outputs": [
    {
     "name": "stdout",
     "output_type": "stream",
     "text": [
      "3.64037662809e-17\n"
     ]
    },
    {
     "data": {
      "image/png": "[encoded data removed]",
      "text/plain": [
       "<matplotlib.figure.Figure at 0x7fb63340a6d0>"
      ]
     },
     "metadata": {},
     "output_type": "display_data"
    }
   ],
   "source": [
    "vals = np.zeros(len(eig_pairs))\n",
    "for ix in range(len(eig_pairs)):\n",
    "    vals[ix] = eig_pairs[ix][0]\n",
    "print vals[700]\n",
    "plt.plot(vals[:70])\n",
    "plt.show()"
   ]
  },
  {
   "cell_type": "code",
   "execution_count": 56,
   "metadata": {
    "collapsed": false
   },
   "outputs": [
    {
     "name": "stdout",
     "output_type": "stream",
     "text": [
      "525\n"
     ]
    },
    {
     "data": {
      "image/png": "[encoded data removed]",
      "text/plain": [
       "<matplotlib.figure.Figure at 0x7fb633056ad0>"
      ]
     },
     "metadata": {},
     "output_type": "display_data"
    }
   ],
   "source": [
    "eig_cm = np.cumsum(vals)/np.sum(vals)\n",
    "\n",
    "\n",
    "for ix in range(eig_cm.shape[0]):\n",
    "    if eig_cm[ix] >= 0.99:\n",
    "        print ix\n",
    "        break\n",
    "\n",
    "\n",
    "plt.plot(eig_cm)\n",
    "plt.show()"
   ]
  },
  {
   "cell_type": "code",
   "execution_count": 65,
   "metadata": {
    "collapsed": false
   },
   "outputs": [
    {
     "name": "stdout",
     "output_type": "stream",
     "text": [
      "[1 2 3 4 5]\n",
      "[[1]\n",
      " [2]\n",
      " [3]\n",
      " [4]\n",
      " [5]]\n",
      "(5, 1)\n"
     ]
    }
   ],
   "source": [
    "a = np.asarray([1, 2, 3, 4, 5])\n",
    "print a.T\n",
    "b = a.reshape((a.shape[0], 1))\n",
    "print b\n",
    "print b.shape"
   ]
  },
  {
   "cell_type": "code",
   "execution_count": 63,
   "metadata": {
    "collapsed": false
   },
   "outputs": [
    {
     "name": "stdout",
     "output_type": "stream",
     "text": [
      "(784, 442)\n"
     ]
    }
   ],
   "source": [
    "# select k dimensions out of all dimensions for feature space\n",
    "k = 442\n",
    "d = eig_pairs[0][1].shape[0]\n",
    "selected = []\n",
    "\n",
    "for ix in range(k):\n",
    "    selected.append(eig_pairs[ix][1].reshape(d, 1))\n",
    "\n",
    "# Now stack the selected eigenvectors in W matrix\n",
    "mat_W = np.hstack(selected)\n",
    "print mat_W.shape"
   ]
  },
  {
   "cell_type": "code",
   "execution_count": 73,
   "metadata": {
    "collapsed": false,
    "scrolled": true
   },
   "outputs": [
    {
     "name": "stdout",
     "output_type": "stream",
     "text": [
      "(784, 442)\n",
      "(784, 28000)\n",
      "(28000, 442)\n"
     ]
    }
   ],
   "source": [
    "print mat_W.shape\n",
    "print data_std.T.shape\n",
    "y = data_std.dot(mat_W)\n",
    "print y.shape"
   ]
  },
  {
   "cell_type": "code",
   "execution_count": 76,
   "metadata": {
    "collapsed": false
   },
   "outputs": [],
   "source": [
    "import sklearn\n",
    "from sklearn.decomposition import PCA"
   ]
  },
  {
   "cell_type": "code",
   "execution_count": 108,
   "metadata": {
    "collapsed": false
   },
   "outputs": [
    {
     "name": "stdout",
     "output_type": "stream",
     "text": [
      "(42000, 2)\n"
     ]
    }
   ],
   "source": [
    "pca = PCA(n_components=2)\n",
    "\n",
    "X = pca.fit_transform(data_std)\n",
    "print X.shape"
   ]
  },
  {
   "cell_type": "code",
   "execution_count": 82,
   "metadata": {
    "collapsed": false
   },
   "outputs": [],
   "source": [
    "trans_cm = np.cov(X, rowvar=0)"
   ]
  },
  {
   "cell_type": "code",
   "execution_count": 96,
   "metadata": {
    "collapsed": false
   },
   "outputs": [],
   "source": [
    "v = pca.explained_variance_ratio_\n",
    "cs = np.cumsum(v)/np.sum(v)"
   ]
  },
  {
   "cell_type": "code",
   "execution_count": 102,
   "metadata": {
    "collapsed": false
   },
   "outputs": [
    {
     "name": "stdout",
     "output_type": "stream",
     "text": [
      "0.0991070072632\n"
     ]
    },
    {
     "data": {
      "image/png": "[encoded data removed]",
      "text/plain": [
       "<matplotlib.figure.Figure at 0x7fb603b610d0>"
      ]
     },
     "metadata": {},
     "output_type": "display_data"
    }
   ],
   "source": [
    "print cs[1]\n",
    "plt.plot(cs)\n",
    "plt.show()"
   ]
  },
  {
   "cell_type": "code",
   "execution_count": 111,
   "metadata": {
    "collapsed": false
   },
   "outputs": [
    {
     "data": {
      "image/png": "[encoded data removed]",
      "text/plain": [
       "<matplotlib.figure.Figure at 0x7fb603b81310>"
      ]
     },
     "metadata": {},
     "output_type": "display_data"
    }
   ],
   "source": [
    "for ix in range(5000):\n",
    "    if labels[ix] == 0:\n",
    "        plt.scatter(X[ix, 0], X[ix, 1], color='red')\n",
    "    elif labels[ix] == 1:\n",
    "        pass\n",
    "        # plt.scatter(X[ix, 0], X[ix, 1], color='green')\n",
    "    elif labels[ix] == 2:\n",
    "        pass\n",
    "        # plt.scatter(X[ix, 0], X[ix, 1], color='blue')\n",
    "    elif labels[ix] == 3:\n",
    "        plt.scatter(X[ix, 0], X[ix, 1], color='yellow')\n",
    "    elif labels[ix] == 4:\n",
    "        plt.scatter(X[ix, 0], X[ix, 1], color='black')\n",
    "plt.show()"
   ]
  },
  {
   "cell_type": "code",
   "execution_count": 112,
   "metadata": {
    "collapsed": true
   },
   "outputs": [],
   "source": [
    "from sklearn.ensemble import RandomForestClassifier"
   ]
  },
  {
   "cell_type": "code",
   "execution_count": 113,
   "metadata": {
    "collapsed": true
   },
   "outputs": [],
   "source": [
    "dim = [2, 3, 5, 7, 10]# , 20, 50, 128, 256, 314, 442]\n",
    "acc = []"
   ]
  },
  {
   "cell_type": "code",
   "execution_count": 121,
   "metadata": {
    "collapsed": false
   },
   "outputs": [
    {
     "name": "stdout",
     "output_type": "stream",
     "text": [
      "[0.33500000000000002, 0.53619047619047622, 0.7522619047619048, 0.89773809523809522, 0.92880952380952386, 0.93928571428571428, 0.93392857142857144, 0.92523809523809519, 0.92154761904761906, 0.91690476190476189, 0.42142857142857143, 0.50011904761904757, 0.74464285714285716, 0.90440476190476193, 0.94261904761904758, 0.94488095238095238, 0.93869047619047619, 0.92761904761904757, 0.92249999999999999, 0.90654761904761905]\n"
     ]
    }
   ],
   "source": [
    "for ix in dim:\n",
    "    pca = PCA(n_components=ix)\n",
    "    X = pca.fit_transform(data)\n",
    "    split = int(0.8*data_std.shape[0])\n",
    "    X_train = X[:split, :]\n",
    "    X_test = X[split:, :]\n",
    "    y_train = labels[:split]\n",
    "    y_test = labels[split:]\n",
    "    \n",
    "    rf = RandomForestClassifier(n_estimators=40, random_state=31)\n",
    "    rf.fit(X_train, y_train)\n",
    "    \n",
    "    acc.append(rf.score(X_test, y_test))\n",
    "print acc"
   ]
  },
  {
   "cell_type": "code",
   "execution_count": 122,
   "metadata": {
    "collapsed": false
   },
   "outputs": [
    {
     "data": {
      "image/png": "[encoded data removed]",
      "text/plain": [
       "<matplotlib.figure.Figure at 0x7fb63303b210>"
      ]
     },
     "metadata": {},
     "output_type": "display_data"
    }
   ],
   "source": [
    "plt.plot(acc, '*-')\n",
    "plt.show()"
   ]
  }
 ],
 "metadata": {
  "anaconda-cloud": {},
  "kernelspec": {
   "display_name": "Python [default]",
   "language": "python",
   "name": "python2"
  },
  "language_info": {
   "codemirror_mode": {
    "name": "ipython",
    "version": 2
   },
   "file_extension": ".py",
   "mimetype": "text/x-python",
   "name": "python",
   "nbconvert_exporter": "python",
   "pygments_lexer": "ipython2",
   "version": "2.7.12"
  }
 },
 "nbformat": 4,
 "nbformat_minor": 0
}
